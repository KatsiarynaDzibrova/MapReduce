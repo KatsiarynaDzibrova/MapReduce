{
 "cells": [
  {
   "cell_type": "code",
   "execution_count": 183,
   "metadata": {},
   "outputs": [
    {
     "name": "stdout",
     "output_type": "stream",
     "text": [
      "100\n",
      "[0.0, 519.0]\n",
      "[0.01, 481.0]\n",
      "[0.02, 482.0]\n",
      "[0.03, 455.0]\n",
      "[0.04, 514.0]\n",
      "[0.05, 529.0]\n",
      "[0.06, 486.0]\n",
      "[0.07, 545.0]\n",
      "[0.08, 475.0]\n",
      "[0.09, 497.0]\n",
      "[0.1, 481.0]\n",
      "[0.11, 483.0]\n",
      "[0.12, 495.0]\n",
      "[0.13, 523.0]\n",
      "[0.14, 539.0]\n",
      "[0.15, 509.0]\n",
      "[0.16, 522.0]\n",
      "[0.17, 508.0]\n",
      "[0.18, 502.0]\n",
      "[0.19, 502.0]\n",
      "[0.2, 494.0]\n",
      "[0.21, 509.0]\n",
      "[0.22, 527.0]\n",
      "[0.23, 494.0]\n",
      "[0.24, 483.0]\n",
      "[0.25, 486.0]\n",
      "[0.26, 507.0]\n",
      "[0.27, 448.0]\n",
      "[0.28, 532.0]\n",
      "[0.29, 490.0]\n",
      "[0.3, 473.0]\n",
      "[0.31, 508.0]\n",
      "[0.32, 516.0]\n",
      "[0.33, 503.0]\n",
      "[0.34, 506.0]\n",
      "[0.35, 465.0]\n",
      "[0.36, 538.0]\n",
      "[0.37, 480.0]\n",
      "[0.38, 493.0]\n",
      "[0.39, 447.0]\n",
      "[0.4, 507.0]\n",
      "[0.41, 479.0]\n",
      "[0.42, 479.0]\n",
      "[0.43, 544.0]\n",
      "[0.44, 508.0]\n",
      "[0.45, 475.0]\n",
      "[0.46, 500.0]\n",
      "[0.47, 510.0]\n",
      "[0.48, 513.0]\n",
      "[0.49, 517.0]\n",
      "[0.5, 476.0]\n",
      "[0.51, 514.0]\n",
      "[0.52, 538.0]\n",
      "[0.53, 496.0]\n",
      "[0.54, 545.0]\n",
      "[0.55, 515.0]\n",
      "[0.56, 506.0]\n",
      "[0.57, 527.0]\n",
      "[0.58, 476.0]\n",
      "[0.59, 518.0]\n",
      "[0.6, 530.0]\n",
      "[0.61, 481.0]\n",
      "[0.62, 509.0]\n",
      "[0.63, 493.0]\n",
      "[0.64, 520.0]\n",
      "[0.65, 496.0]\n",
      "[0.66, 497.0]\n",
      "[0.67, 452.0]\n",
      "[0.68, 497.0]\n",
      "[0.69, 497.0]\n",
      "[0.7, 491.0]\n",
      "[0.71, 498.0]\n",
      "[0.72, 479.0]\n",
      "[0.73, 534.0]\n",
      "[0.74, 529.0]\n",
      "[0.75, 487.0]\n",
      "[0.76, 525.0]\n",
      "[0.77, 537.0]\n",
      "[0.78, 472.0]\n",
      "[0.79, 510.0]\n",
      "[0.8, 493.0]\n",
      "[0.81, 524.0]\n",
      "[0.82, 509.0]\n",
      "[0.83, 479.0]\n",
      "[0.84, 499.0]\n",
      "[0.85, 511.0]\n",
      "[0.86, 533.0]\n",
      "[0.87, 508.0]\n",
      "[0.88, 443.0]\n",
      "[0.89, 512.0]\n",
      "[0.9, 433.0]\n",
      "[0.91, 481.0]\n",
      "[0.92, 455.0]\n",
      "[0.93, 520.0]\n",
      "[0.94, 511.0]\n",
      "[0.95, 489.0]\n",
      "[0.96, 473.0]\n",
      "[0.97, 472.0]\n",
      "[0.98, 525.0]\n",
      "[0.99, 502.0]\n",
      "[0.005, 0.015, 0.025, 0.034999999999999996, 0.045, 0.055, 0.065, 0.07500000000000001, 0.085, 0.095, 0.10500000000000001, 0.115, 0.125, 0.135, 0.14500000000000002, 0.155, 0.165, 0.17500000000000002, 0.185, 0.195, 0.20500000000000002, 0.215, 0.225, 0.23500000000000001, 0.245, 0.255, 0.265, 0.275, 0.28500000000000003, 0.295, 0.305, 0.315, 0.325, 0.335, 0.34500000000000003, 0.355, 0.365, 0.375, 0.385, 0.395, 0.405, 0.415, 0.425, 0.435, 0.445, 0.455, 0.465, 0.475, 0.485, 0.495, 0.505, 0.515, 0.525, 0.535, 0.545, 0.555, 0.5650000000000001, 0.575, 0.585, 0.595, 0.605, 0.615, 0.625, 0.635, 0.645, 0.655, 0.665, 0.675, 0.685, 0.695, 0.705, 0.715, 0.725, 0.735, 0.745, 0.755, 0.765, 0.775, 0.785, 0.795, 0.805, 0.8150000000000001, 0.825, 0.835, 0.845, 0.855, 0.865, 0.875, 0.885, 0.895, 0.905, 0.915, 0.925, 0.935, 0.945, 0.955, 0.965, 0.975, 0.985, 0.995]\n",
      "[519, 481, 482, 455, 514, 529, 486, 545, 475, 497, 481, 483, 495, 523, 539, 509, 522, 508, 502, 502, 494, 509, 527, 494, 483, 486, 507, 448, 532, 490, 473, 508, 516, 503, 506, 465, 538, 480, 493, 447, 507, 479, 479, 544, 508, 475, 500, 510, 513, 517, 476, 514, 538, 496, 545, 515, 506, 527, 476, 518, 530, 481, 509, 493, 520, 496, 497, 452, 497, 497, 491, 498, 479, 534, 529, 487, 525, 537, 472, 510, 493, 524, 509, 479, 499, 511, 533, 508, 443, 512, 433, 481, 455, 520, 511, 489, 473, 472, 525, 502]\n"
     ]
    }
   ],
   "source": [
    "import csv\n",
    "\n",
    "infile = open('out.txt', 'r')\n",
    "lines = infile.readlines()\n",
    "num = int(lines[0])\n",
    "bin_names = []\n",
    "values = []\n",
    "print(num)\n",
    "for i in range(1, len(lines)):\n",
    "    array = [float(x) for x in lines[i].split()]\n",
    "    print(array)\n",
    "    bin_names.append(array[0] + 1./num/2)\n",
    "    values.append(int(array[1]))\n",
    "print(bin_names) \n",
    "print(values)    "
   ]
  },
  {
   "cell_type": "code",
   "execution_count": 184,
   "metadata": {},
   "outputs": [
    {
     "data": {
      "image/png": "[encoded data removed]",
      "text/plain": [
       "<Figure size 432x288 with 1 Axes>"
      ]
     },
     "metadata": {
      "needs_background": "light"
     },
     "output_type": "display_data"
    }
   ],
   "source": [
    "import matplotlib.pyplot as plt\n",
    "\n",
    "plt.hist(bin_names, range =(0,1), bins=num, weights = values)\n",
    "plt.show()"
   ]
  },
  {
   "cell_type": "code",
   "execution_count": null,
   "metadata": {},
   "outputs": [],
   "source": []
  }
 ],
 "metadata": {
  "kernelspec": {
   "display_name": "Python 2",
   "language": "python",
   "name": "python2"
  },
  "language_info": {
   "codemirror_mode": {
    "name": "ipython",
    "version": 2
   },
   "file_extension": ".py",
   "mimetype": "text/x-python",
   "name": "python",
   "nbconvert_exporter": "python",
   "pygments_lexer": "ipython2",
   "version": "2.7.17"
  }
 },
 "nbformat": 4,
 "nbformat_minor": 2
}
