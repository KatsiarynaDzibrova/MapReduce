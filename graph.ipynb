{
 "cells": [
  {
   "cell_type": "code",
   "execution_count": 113,
   "metadata": {},
   "outputs": [
    {
     "name": "stdout",
     "output_type": "stream",
     "text": [
      "8\n",
      "[0.1, 1.0]\n",
      "[0.34, 1.0]\n",
      "[0.35, 1.0]\n",
      "[0.56, 1.0]\n",
      "[0.67, 1.0]\n",
      "[0.71, 1.0]\n",
      "[0.78, 1.0]\n",
      "[0.93, 1.0]\n",
      "[0.1, 0.34, 0.35, 0.56, 0.67, 0.71, 0.78, 0.93]\n",
      "[1, 1, 1, 1, 1, 1, 1, 1]\n"
     ]
    }
   ],
   "source": [
    "import csv\n",
    "\n",
    "infile = open('temp.txt', 'r')\n",
    "mean = 0\n",
    "lines = infile.readlines()\n",
    "num = int(lines[0])\n",
    "bin_names = []\n",
    "values = []\n",
    "print(num)\n",
    "for i in range(1,num+1):\n",
    "    array = [float(x) for x in lines[i].split()]\n",
    "    print(array)\n",
    "    bin_names.append(array[0])\n",
    "    values.append(int(array[1]))\n",
    "print(bin_names) \n",
    "print(values)    "
   ]
  },
  {
   "cell_type": "code",
   "execution_count": 114,
   "metadata": {},
   "outputs": [
    {
     "data": {
      "image/png": "[encoded data removed]",
      "text/plain": [
       "<Figure size 432x288 with 1 Axes>"
      ]
     },
     "metadata": {
      "needs_background": "light"
     },
     "output_type": "display_data"
    }
   ],
   "source": [
    "import matplotlib.pyplot as plt\n",
    "\n",
    "plt.hist(bin_names, range =(0,1), bins=8, weights = values)\n",
    "plt.show()"
   ]
  },
  {
   "cell_type": "code",
   "execution_count": 111,
   "metadata": {},
   "outputs": [
    {
     "data": {
      "image/png": "[encoded data removed]",
      "text/plain": [
       "<Figure size 432x288 with 1 Axes>"
      ]
     },
     "metadata": {
      "needs_background": "light"
     },
     "output_type": "display_data"
    }
   ],
   "source": [
    "import matplotlib.pyplot as plt\n",
    "bin_names = [0.0, 0.5]\n",
    "plt.hist(bin_names, range =(0,1), bins=2, weights = [1,3])\n",
    "plt.show()"
   ]
  },
  {
   "cell_type": "code",
   "execution_count": null,
   "metadata": {},
   "outputs": [],
   "source": []
  }
 ],
 "metadata": {
  "kernelspec": {
   "display_name": "Python 2",
   "language": "python",
   "name": "python2"
  },
  "language_info": {
   "codemirror_mode": {
    "name": "ipython",
    "version": 2
   },
   "file_extension": ".py",
   "mimetype": "text/x-python",
   "name": "python",
   "nbconvert_exporter": "python",
   "pygments_lexer": "ipython2",
   "version": "2.7.17"
  }
 },
 "nbformat": 4,
 "nbformat_minor": 2
}
