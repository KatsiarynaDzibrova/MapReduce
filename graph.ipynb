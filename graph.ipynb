{
 "cells": [
  {
   "cell_type": "code",
   "execution_count": 197,
   "metadata": {},
   "source": [
    "import csv\n",
    "\n",
    "infile = open('out.txt', 'r')\n",
    "lines = infile.readlines()\n",
    "num = int(lines[0])\n",
    "bin_names = []\n",
    "values = []\n",
    "print(num)\n",
    "for i in range(1, len(lines)):\n",
    "    array = [float(x) for x in lines[i].split()]\n",
    "    print(array)\n",
    "    bin_names.append(array[0] + 1./num/2)\n",
    "    values.append(int(array[1]))\n",
    "print(bin_names) \n",
    "print(values)    "
   ]
  },
  {
   "cell_type": "code",
   "execution_count": 198,
   "metadata": {},
   "outputs": [
    {
     "data": {
      "image/png": "[encoded data removed]",
      "text/plain": [
       "<Figure size 432x288 with 1 Axes>"
      ]
     },
     "metadata": {
      "needs_background": "light"
     },
     "output_type": "display_data"
    }
   ],
   "source": [
    "import matplotlib.pyplot as plt\n",
    "\n",
    "plt.hist(bin_names, range =(0,1), bins=num, weights = values)\n",
    "plt.show()"
   ]
  },
  {
   "cell_type": "code",
   "execution_count": null,
   "metadata": {},
   "outputs": [],
   "source": []
  }
 ],
 "metadata": {
  "kernelspec": {
   "display_name": "Python 2",
   "language": "python",
   "name": "python2"
  },
  "language_info": {
   "codemirror_mode": {
    "name": "ipython",
    "version": 2
   },
   "file_extension": ".py",
   "mimetype": "text/x-python",
   "name": "python",
   "nbconvert_exporter": "python",
   "pygments_lexer": "ipython2",
   "version": "2.7.17"
  }
 },
 "nbformat": 4,
 "nbformat_minor": 2
}
