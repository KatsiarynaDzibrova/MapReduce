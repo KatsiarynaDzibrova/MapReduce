{
 "cells": [
  {
   "cell_type": "code",
   "execution_count": 197,
   "metadata": {},
   "outputs": [
    {
     "name": "stdout",
     "output_type": "stream",
     "text": [
      "100\n",
      "[0.0, 2002.0]\n",
      "[0.01, 1986.0]\n",
      "[0.02, 1909.0]\n",
      "[0.03, 1965.0]\n",
      "[0.04, 2049.0]\n",
      "[0.05, 2024.0]\n",
      "[0.06, 1992.0]\n",
      "[0.07, 2063.0]\n",
      "[0.08, 1994.0]\n",
      "[0.09, 2009.0]\n",
      "[0.1, 2013.0]\n",
      "[0.11, 1958.0]\n",
      "[0.12, 2024.0]\n",
      "[0.13, 2088.0]\n",
      "[0.14, 2007.0]\n",
      "[0.15, 2041.0]\n",
      "[0.16, 2028.0]\n",
      "[0.17, 1981.0]\n",
      "[0.18, 1967.0]\n",
      "[0.19, 2059.0]\n",
      "[0.2, 2034.0]\n",
      "[0.21, 2052.0]\n",
      "[0.22, 2024.0]\n",
      "[0.23, 2020.0]\n",
      "[0.24, 1979.0]\n",
      "[0.25, 1987.0]\n",
      "[0.26, 2026.0]\n",
      "[0.27, 1996.0]\n",
      "[0.28, 2019.0]\n",
      "[0.29, 1930.0]\n",
      "[0.3, 1999.0]\n",
      "[0.31, 1990.0]\n",
      "[0.32, 2000.0]\n",
      "[0.33, 1989.0]\n",
      "[0.34, 1942.0]\n",
      "[0.35, 1923.0]\n",
      "[0.36, 2007.0]\n",
      "[0.37, 1965.0]\n",
      "[0.38, 1997.0]\n",
      "[0.39, 1979.0]\n",
      "[0.4, 2041.0]\n",
      "[0.41, 2026.0]\n",
      "[0.42, 1976.0]\n",
      "[0.43, 2042.0]\n",
      "[0.44, 1990.0]\n",
      "[0.45, 2002.0]\n",
      "[0.46, 2030.0]\n",
      "[0.47, 1922.0]\n",
      "[0.48, 2019.0]\n",
      "[0.49, 2004.0]\n",
      "[0.5, 2014.0]\n",
      "[0.51, 2042.0]\n",
      "[0.52, 1961.0]\n",
      "[0.53, 1963.0]\n",
      "[0.54, 2034.0]\n",
      "[0.55, 1959.0]\n",
      "[0.56, 2008.0]\n",
      "[0.57, 2013.0]\n",
      "[0.58, 2060.0]\n",
      "[0.59, 2027.0]\n",
      "[0.6, 1963.0]\n",
      "[0.61, 1957.0]\n",
      "[0.62, 2011.0]\n",
      "[0.63, 2016.0]\n",
      "[0.64, 2021.0]\n",
      "[0.65, 1964.0]\n",
      "[0.66, 1963.0]\n",
      "[0.67, 2014.0]\n",
      "[0.68, 1961.0]\n",
      "[0.69, 2069.0]\n",
      "[0.7, 1981.0]\n",
      "[0.71, 1959.0]\n",
      "[0.72, 1948.0]\n",
      "[0.73, 2043.0]\n",
      "[0.74, 1980.0]\n",
      "[0.75, 2012.0]\n",
      "[0.76, 2000.0]\n",
      "[0.77, 2048.0]\n",
      "[0.78, 2029.0]\n",
      "[0.79, 2020.0]\n",
      "[0.8, 1995.0]\n",
      "[0.81, 1992.0]\n",
      "[0.82, 2024.0]\n",
      "[0.83, 2049.0]\n",
      "[0.84, 2031.0]\n",
      "[0.85, 1949.0]\n",
      "[0.86, 2085.0]\n",
      "[0.87, 1928.0]\n",
      "[0.88, 1935.0]\n",
      "[0.89, 2014.0]\n",
      "[0.9, 1974.0]\n",
      "[0.91, 2004.0]\n",
      "[0.92, 1941.0]\n",
      "[0.93, 2066.0]\n",
      "[0.94, 2008.0]\n",
      "[0.95, 2014.0]\n",
      "[0.96, 1944.0]\n",
      "[0.97, 1894.0]\n",
      "[0.98, 2067.0]\n",
      "[0.99, 1978.0]\n",
      "[0.005, 0.015, 0.025, 0.034999999999999996, 0.045, 0.055, 0.065, 0.07500000000000001, 0.085, 0.095, 0.10500000000000001, 0.115, 0.125, 0.135, 0.14500000000000002, 0.155, 0.165, 0.17500000000000002, 0.185, 0.195, 0.20500000000000002, 0.215, 0.225, 0.23500000000000001, 0.245, 0.255, 0.265, 0.275, 0.28500000000000003, 0.295, 0.305, 0.315, 0.325, 0.335, 0.34500000000000003, 0.355, 0.365, 0.375, 0.385, 0.395, 0.405, 0.415, 0.425, 0.435, 0.445, 0.455, 0.465, 0.475, 0.485, 0.495, 0.505, 0.515, 0.525, 0.535, 0.545, 0.555, 0.5650000000000001, 0.575, 0.585, 0.595, 0.605, 0.615, 0.625, 0.635, 0.645, 0.655, 0.665, 0.675, 0.685, 0.695, 0.705, 0.715, 0.725, 0.735, 0.745, 0.755, 0.765, 0.775, 0.785, 0.795, 0.805, 0.8150000000000001, 0.825, 0.835, 0.845, 0.855, 0.865, 0.875, 0.885, 0.895, 0.905, 0.915, 0.925, 0.935, 0.945, 0.955, 0.965, 0.975, 0.985, 0.995]\n",
      "[2002, 1986, 1909, 1965, 2049, 2024, 1992, 2063, 1994, 2009, 2013, 1958, 2024, 2088, 2007, 2041, 2028, 1981, 1967, 2059, 2034, 2052, 2024, 2020, 1979, 1987, 2026, 1996, 2019, 1930, 1999, 1990, 2000, 1989, 1942, 1923, 2007, 1965, 1997, 1979, 2041, 2026, 1976, 2042, 1990, 2002, 2030, 1922, 2019, 2004, 2014, 2042, 1961, 1963, 2034, 1959, 2008, 2013, 2060, 2027, 1963, 1957, 2011, 2016, 2021, 1964, 1963, 2014, 1961, 2069, 1981, 1959, 1948, 2043, 1980, 2012, 2000, 2048, 2029, 2020, 1995, 1992, 2024, 2049, 2031, 1949, 2085, 1928, 1935, 2014, 1974, 2004, 1941, 2066, 2008, 2014, 1944, 1894, 2067, 1978]\n"
     ]
    }
   ],
   "source": [
    "import csv\n",
    "\n",
    "infile = open('out.txt', 'r')\n",
    "lines = infile.readlines()\n",
    "num = int(lines[0])\n",
    "bin_names = []\n",
    "values = []\n",
    "print(num)\n",
    "for i in range(1, len(lines)):\n",
    "    array = [float(x) for x in lines[i].split()]\n",
    "    print(array)\n",
    "    bin_names.append(array[0] + 1./num/2)\n",
    "    values.append(int(array[1]))\n",
    "print(bin_names) \n",
    "print(values)    "
   ]
  },
  {
   "cell_type": "code",
   "execution_count": 198,
   "metadata": {},
   "outputs": [
    {
     "data": {
      "image/png": "[encoded data removed]",
      "text/plain": [
       "<Figure size 432x288 with 1 Axes>"
      ]
     },
     "metadata": {
      "needs_background": "light"
     },
     "output_type": "display_data"
    }
   ],
   "source": [
    "import matplotlib.pyplot as plt\n",
    "\n",
    "plt.hist(bin_names, range =(0,1), bins=num, weights = values)\n",
    "plt.show()"
   ]
  },
  {
   "cell_type": "code",
   "execution_count": null,
   "metadata": {},
   "outputs": [],
   "source": []
  }
 ],
 "metadata": {
  "kernelspec": {
   "display_name": "Python 2",
   "language": "python",
   "name": "python2"
  },
  "language_info": {
   "codemirror_mode": {
    "name": "ipython",
    "version": 2
   },
   "file_extension": ".py",
   "mimetype": "text/x-python",
   "name": "python",
   "nbconvert_exporter": "python",
   "pygments_lexer": "ipython2",
   "version": "2.7.17"
  }
 },
 "nbformat": 4,
 "nbformat_minor": 2
}
